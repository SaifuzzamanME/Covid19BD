{
    "cells": [
        {
            "cell_type": "markdown",
            "metadata": {},
            "source": "<a href=\"https://saifantor.weebly.com\"><img src = \"https://i1.rgstatic.net/ii/profile.image/763778891280385-1559110486181_Q512/Saifuzzaman_Antor.jpg\" align=\"center\" width = 200> </a>\n<p style=\"text-align:center;\"><font size = 5><strong>Saifuzzaman Antor</strong></font></h1>\n<p style=\"text-align:center;\"><font size = 2>Undergraduate Student<br>Department of Mechanical Engineering<br>Bangladesh University of Engineering & technology</font></p>\n<a href=\"https://saifantor.weebly.com\"><p style=\"text-align:center\">saifantor.weebly.com</p></a>\n<p style=\"text-align:center;\"><font size = 1>Courtesy:<br>GeoJSON: GeoDASH, Bangladesh<br>Positive Cases: Institute of Epidemiology, Disease Control and Research, Bangladesh</font></p>"
        },
        {
            "cell_type": "code",
            "execution_count": 1,
            "metadata": {},
            "outputs": [
                {
                    "name": "stdout",
                    "output_type": "stream",
                    "text": "Requirement already satisfied: folium in /opt/conda/envs/Python36/lib/python3.6/site-packages (0.5.0)\nRequirement already satisfied: branca in /opt/conda/envs/Python36/lib/python3.6/site-packages (from folium) (0.4.1)\nRequirement already satisfied: jinja2 in /opt/conda/envs/Python36/lib/python3.6/site-packages (from folium) (2.10)\nRequirement already satisfied: requests in /opt/conda/envs/Python36/lib/python3.6/site-packages (from folium) (2.21.0)\nRequirement already satisfied: six in /opt/conda/envs/Python36/lib/python3.6/site-packages (from folium) (1.12.0)\nRequirement already satisfied: MarkupSafe>=0.23 in /opt/conda/envs/Python36/lib/python3.6/site-packages (from jinja2->folium) (1.1.0)\nRequirement already satisfied: chardet<3.1.0,>=3.0.2 in /opt/conda/envs/Python36/lib/python3.6/site-packages (from requests->folium) (3.0.4)\nRequirement already satisfied: idna<2.9,>=2.5 in /opt/conda/envs/Python36/lib/python3.6/site-packages (from requests->folium) (2.8)\nRequirement already satisfied: urllib3<1.25,>=1.21.1 in /opt/conda/envs/Python36/lib/python3.6/site-packages (from requests->folium) (1.24.1)\nRequirement already satisfied: certifi>=2017.4.17 in /opt/conda/envs/Python36/lib/python3.6/site-packages (from requests->folium) (2020.4.5.2)\nFolium Library has been installed.\n"
                }
            ],
            "source": "!pip install folium # Folium Library is installed to visualize data\n\nprint('Folium Library has been installed.')"
        },
        {
            "cell_type": "code",
            "execution_count": 2,
            "metadata": {},
            "outputs": [
                {
                    "name": "stdout",
                    "output_type": "stream",
                    "text": "NumPy, Pandas, JSOn and Folium have been imported.\n"
                }
            ],
            "source": "import pandas as pd # Pandas Library is imported for data analysis/manipulation\nimport json # JSON module is imported to work with JavaScript Object Notation file\nimport folium # Folium Library is imported to visualize data\n\nprint('NumPy, Pandas, JSOn and Folium have been imported.')"
        },
        {
            "cell_type": "code",
            "execution_count": 3,
            "metadata": {},
            "outputs": [
                {
                    "name": "stdout",
                    "output_type": "stream",
                    "text": "GeoJSON for Districts of Bangladesh has been downloaded.\n"
                }
            ],
            "source": "!wget --quiet https://raw.githubusercontent.com/SaifuzzamanME/Covid19BD/master/districts_bd_gis.json # WGET module allows us to download files without opening the file\n# GeoJSON Courtesy: GeoDASH, Bangladesh\n\nprint('GeoJSON for Districts of Bangladesh has been downloaded.')"
        },
        {
            "cell_type": "code",
            "execution_count": 4,
            "metadata": {},
            "outputs": [
                {
                    "name": "stdout",
                    "output_type": "stream",
                    "text": "World Map has been centralized and initiated for Dhaka (Bangladesh) & zoomed 7 times.\n"
                }
            ],
            "source": "bd_geo = r'districts_bd_gis.json' # Reading GeoJSON file\nbd_map = folium.Map(location=[23.8103, 90.4125], zoom_start=7, tiles='openstreetmap') # Map is initiated with the latitute, longitude, zoom size & tile style\n\nprint('World Map has been centralized and initiated for Dhaka (Bangladesh) & zoomed 7 times.')"
        },
        {
            "cell_type": "code",
            "execution_count": 5,
            "metadata": {},
            "outputs": [
                {
                    "name": "stdout",
                    "output_type": "stream",
                    "text": "Positive Cases information have been downloaded and read into dataframe.\n"
                }
            ],
            "source": "df_can = pd.read_csv('https://raw.githubusercontent.com/SaifuzzamanME/Covid19BD/master/Positive_Cases_June_07.csv') #Read database by pandas library\n# 'Positive Cases' Courtesy: Institute of Epidemiology, Disease Control and Research, Bangladesh\n\nprint('Positive Cases information have been downloaded and read into dataframe.')"
        },
        {
            "cell_type": "code",
            "execution_count": 6,
            "metadata": {
                "scrolled": false
            },
            "outputs": [],
            "source": "bd_map.choropleth( # Initiates choropleth map feature\n    geo_data=bd_geo, # Connects GeoJSON geometries\n    data=df_can, # Connects database \n    columns=['NAME_2', 'cases'], # Columns of data to be bound\n    key_on='feature.properties.NAME_2', #Variable in the GeoJSON file to bind the data\n    fill_color='YlOrRd', #Area Color brewer code\n    fill_opacity=0.7, # Area fill opacity (Range 0~1)\n    line_opacity=0.5, # GeoJSON geopath line opacity, (Range 0~1)\n    legend_name='Covid-19 Positive Cases in Bangladesh (Till June 09, 2020)' # Title for data legend\n)\n\nbd_map # Plot choropleth map"
        },
        {
            "cell_type": "code",
            "execution_count": null,
            "metadata": {},
            "outputs": [],
            "source": ""
        }
    ],
    "metadata": {
        "kernelspec": {
            "display_name": "Python 3.6",
            "language": "python",
            "name": "python3"
        },
        "language_info": {
            "codemirror_mode": {
                "name": "ipython",
                "version": 3
            },
            "file_extension": ".py",
            "mimetype": "text/x-python",
            "name": "python",
            "nbconvert_exporter": "python",
            "pygments_lexer": "ipython3",
            "version": "3.6.9"
        }
    },
    "nbformat": 4,
    "nbformat_minor": 1
}