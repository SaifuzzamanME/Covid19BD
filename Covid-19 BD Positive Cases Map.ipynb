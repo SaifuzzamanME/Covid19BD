{
 "cells": [
  {
   "cell_type": "markdown",
   "metadata": {},
   "source": [
    "<a href=\"https://saifantor.weebly.com\"><img src = \"https://i1.rgstatic.net/ii/profile.image/763778891280385-1559110486181_Q512/Saifuzzaman_Antor.jpg\" align=\"center\" width = 200> </a>\n",
    "<p style=\"text-align:center;\"><font size = 5><strong>Saifuzzaman Antor</strong></font></h1>\n",
    "<p style=\"text-align:center;\"><font size = 2>Undergraduate Student<br>Department of Mechanical Engineering<br>Bangladesh University of Engineering & technology</font></p>\n",
    "<a href=\"https://saifantor.weebly.com\"><p style=\"text-align:center\">saifantor.weebly.com</p></a>\n",
    "<p style=\"text-align:center;\"><font size = 1>Courtesy:<br>GeoJSON: GeoDASH, Bangladesh<br>Positive Cases: Institute of Epidemiology, Disease Control and Research, Bangladesh</font></p>"
   ]
  },
  {
   "cell_type": "code",
   "execution_count": null,
   "metadata": {},
   "outputs": [],
   "source": [
    "!pip install folium # Folium Library is installed to visualize data\n",
    "\n",
    "print('Folium Library has been installed.')"
   ]
  },
  {
   "cell_type": "code",
   "execution_count": null,
   "metadata": {},
   "outputs": [],
   "source": [
    "!pip install wget # WGET module is installed to download files\n",
    "\n",
    "print('WGET module has been installed.')"
   ]
  },
  {
   "cell_type": "code",
   "execution_count": null,
   "metadata": {},
   "outputs": [],
   "source": [
    "import pandas as pd # Pandas Library is imported for data analysis/manipulation\n",
    "import json # JSON module is imported to work with JavaScript Object Notation file\n",
    "import folium # Folium Library is imported to visualize data\n",
    "\n",
    "print('NumPy, Pandas, JSOn and Folium have been imported.')"
   ]
  },
  {
   "cell_type": "code",
   "execution_count": null,
   "metadata": {},
   "outputs": [],
   "source": [
    "!wget --quiet https://raw.githubusercontent.com/SaifuzzamanME/Covid19BD/master/districts_bd_gis.json # WGET module allows us to download files without opening the file\n",
    "# GeoJSON Courtesy: GeoDASH, Bangladesh\n",
    "\n",
    "print('GeoJSON for Districts of Bangladesh has been downloaded.')"
   ]
  },
  {
   "cell_type": "code",
   "execution_count": null,
   "metadata": {},
   "outputs": [],
   "source": [
    "bd_geo = r'districts_bd_gis.json' # Reading GeoJSON file\n",
    "bd_map = folium.Map(location=[23.8103, 90.4125], zoom_start=7, tiles='openstreetmap') # Map is initiated with the latitute, longitude, zoom size & tile style\n",
    "\n",
    "print('World Map has been centralized and initiated for Dhaka (Bangladesh) & zoomed 7 times.')"
   ]
  },
  {
   "cell_type": "code",
   "execution_count": null,
   "metadata": {},
   "outputs": [],
   "source": [
    "df_can = pd.read_csv('https://raw.githubusercontent.com/SaifuzzamanME/Covid19BD/master/Positive_Cases_June_09.csv') #Read database by pandas library\n",
    "# 'Positive Cases' Courtesy: Institute of Epidemiology, Disease Control and Research, Bangladesh\n",
    "\n",
    "print('Positive Cases information have been downloaded and read into dataframe.')\n",
    "\n",
    "bins=list(df_can['cases'].quantile([0.0,0.01,0.05,0.1,0.25,0.5,0.75,0.9,0.98,1]))  # Data Legend Interval"
   ]
  },
  {
   "cell_type": "code",
   "execution_count": null,
   "metadata": {
    "scrolled": false
   },
   "outputs": [],
   "source": [
    "folium.Choropleth( # Initiates choropleth map feature\n",
    "    geo_data=bd_geo, # Connects GeoJSON geometries\n",
    "    data=df_can, # Connects database\n",
    "    bins=bins, # connects legend interval scale\n",
    "    columns=['NAME_2', 'cases'], # Columns of data to be bound\n",
    "    key_on='feature.properties.NAME_2', # Variable in the GeoJSON file to bind the data\n",
    "    fill_color='YlOrRd', # Area Color brewer code\n",
    "    fill_opacity=0.9, # Area fill opacity (Range 0~1)\n",
    "    line_opacity=0.4, # GeoJSON geopath line opacity (Range 0~1)\n",
    "    legend_name='District-wise Covid-19 Positive Cases (Thousands) in Bangladesh (Till June 09, 2020)', # Title for data legend\n",
    "    reset=True\n",
    ").add_to(bd_map)\n",
    "\n",
    "bd_map # Plot choropleth map"
   ]
  },
  {
   "cell_type": "code",
   "execution_count": null,
   "metadata": {},
   "outputs": [],
   "source": []
  }
 ],
 "metadata": {
  "kernelspec": {
   "display_name": "Python 3",
   "language": "python",
   "name": "python3"
  },
  "language_info": {
   "codemirror_mode": {
    "name": "ipython",
    "version": 3
   },
   "file_extension": ".py",
   "mimetype": "text/x-python",
   "name": "python",
   "nbconvert_exporter": "python",
   "pygments_lexer": "ipython3",
   "version": "3.7.6"
  }
 },
 "nbformat": 4,
 "nbformat_minor": 1
}
