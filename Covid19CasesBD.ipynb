# Saifuzzaman Antor
# saifantor.weebly.com

!pip install folium # Folium Library is installed to visualize data
print('Folium Library has been installed.')

import pandas as pd # Pandas Library is imported for data analysis/manipulation
import json # JSON module is imported to work with JavaScript Object Notation file
import folium # Folium Library is imported to visualize data
print('NumPy, Pandas, JSOn and Folium have been imported.')

!wget --quiet https://raw.githubusercontent.com/SaifuzzamanME/Covid19BD/master/districts_bd_gis.json # WGET module allows us to download files without opening the file
# GeoJSON Courtesy: GeoDASH, Bangladesh
print('GeoJSON for Districts of Bangladesh has been downloaded.')

bd_geo = r'districts_bd_gis.json' # Reading GeoJSON file
bd_map = folium.Map(location=[23.8103, 90.4125], zoom_start=7, tiles='openstreetmap') # Map is initiated with the latitute, longitude, zoom size & tile style
print('World Map has been centralized and initiated for Dhaka (Bangladesh) & zoomed 7 times.')

df_can = pd.read_csv('https://raw.githubusercontent.com/SaifuzzamanME/Covid19BD/master/Positive_Cases_June_07.csv') #Read database by pandas library
# 'Positive Cases' Courtesy: Institute of Epidemiology, Disease Control and Research, Bangladesh
print('Positive Cases information have been downloaded and read into dataframe.')

bd_map.choropleth( # Initiates choropleth map feature
    geo_data=bd_geo, # Connects GeoJSON geometries
    data=df_can, # Connects database 
    columns=['NAME_2', 'cases'], # Columns of data to be bound
    key_on='feature.properties.NAME_2', #Variable in the GeoJSON file to bind the data
    fill_color='YlOrRd', #Area Color brewer code
    fill_opacity=0.7, # Area fill opacity (Range 0~1)
    line_opacity=0.5, # GeoJSON geopath line opacity, (Range 0~1)
    legend_name='Covid-19 Positive Cases in Bangladesh (Till June 09, 2020)' # Title for data legend
)
bd_map # Plot choropleth map
